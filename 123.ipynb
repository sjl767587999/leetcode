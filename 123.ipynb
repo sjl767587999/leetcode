{
 "cells": [
  {
   "cell_type": "code",
   "execution_count": 1,
   "metadata": {
    "pycharm": {
     "is_executing": false
    }
   },
   "outputs": [
    {
     "name": "stdout",
     "output_type": "stream",
     "text": [
      "1\n",
      "2\n"
     ]
    }
   ],
   "source": [
    "nums = [1,1,2]\n",
    "nums_len = len(nums)\n",
    "i = 1\n",
    "while i<nums_len:\n",
    "    if nums[i]==nums[i-1]:\n",
    "        nums.remove(i)\n",
    "        nums_len = nums_len - 1\n",
    "    else:\n",
    "        i = i+1\n",
    "for i in nums:\n",
    "    print(i)\n"
   ]
  },
  {
   "cell_type": "code",
   "execution_count": 2,
   "metadata": {},
   "outputs": [
    {
     "name": "stdout",
     "output_type": "stream",
     "text": [
      "1\n",
      "2\n"
     ]
    }
   ],
   "source": [
    "nums = [1,1,2]\n",
    "nums_len = len(nums)\n",
    "i = 1\n",
    "while i<nums_len:\n",
    "    if nums[i]==nums[i-1]:\n",
    "        nums.remove(i)\n",
    "        nums_len = nums_len - 1\n",
    "    else:\n",
    "        i = i+1\n",
    "for i in nums:\n",
    "    print(i)\n"
   ]
  },
  {
   "cell_type": "code",
   "execution_count": null,
   "metadata": {},
   "outputs": [],
   "source": []
  }
 ],
 "metadata": {
  "kernelspec": {
   "display_name": "Python 3",
   "language": "python",
   "name": "python3"
  },
  "language_info": {
   "codemirror_mode": {
    "name": "ipython",
    "version": 3
   },
   "file_extension": ".py",
   "mimetype": "text/x-python",
   "name": "python",
   "nbconvert_exporter": "python",
   "pygments_lexer": "ipython3",
   "version": "3.7.3"
  }
 },
 "nbformat": 4,
 "nbformat_minor": 1
}
